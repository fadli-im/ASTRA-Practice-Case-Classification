{
  "nbformat": 4,
  "nbformat_minor": 0,
  "metadata": {
    "colab": {
      "name": "PIMA_INDIA-DIABETES.ipynb",
      "version": "0.3.2",
      "provenance": [],
      "collapsed_sections": [],
      "include_colab_link": true
    },
    "kernelspec": {
      "name": "python3",
      "display_name": "Python 3"
    }
  },
  "cells": [
    {
      "cell_type": "markdown",
      "metadata": {
        "id": "view-in-github",
        "colab_type": "text"
      },
      "source": [
        "<a href=\"https://colab.research.google.com/github/fadli-im/ASTRA-Practice-Case-Classification/blob/master/PIMA_INDIA_DIABETES.ipynb\" target=\"_parent\"><img src=\"https://colab.research.google.com/assets/colab-badge.svg\" alt=\"Open In Colab\"/></a>"
      ]
    },
    {
      "cell_type": "code",
      "metadata": {
        "id": "31_4NMMUU_zu",
        "colab_type": "code",
        "outputId": "1effa08b-5cf8-404b-f7b2-aec12c258445",
        "colab": {
          "base_uri": "https://localhost:8080/",
          "height": 34
        }
      },
      "source": [
        "#Mount Google Drive\n",
        "\n",
        "from google.colab import drive\n",
        "drive.mount('/content/gdrive')"
      ],
      "execution_count": 0,
      "outputs": [
        {
          "output_type": "stream",
          "text": [
            "Drive already mounted at /content/gdrive; to attempt to forcibly remount, call drive.mount(\"/content/gdrive\", force_remount=True).\n"
          ],
          "name": "stdout"
        }
      ]
    },
    {
      "cell_type": "code",
      "metadata": {
        "id": "kdnTy2ZVVXLp",
        "colab_type": "code",
        "colab": {}
      },
      "source": [
        "import csv\n",
        "import math\n",
        "import random"
      ],
      "execution_count": 0,
      "outputs": []
    },
    {
      "cell_type": "code",
      "metadata": {
        "id": "O95mRWzQVnTh",
        "colab_type": "code",
        "colab": {}
      },
      "source": [
        "def loadCsv(filename):\n",
        "    lines = csv.reader(open(r'/content/gdrive/My Drive/IYKRA/Data Set/pima-indians-diabetes.csv'))\n",
        "    dataset = list(lines)\n",
        "    for i in range(len(dataset)):\n",
        "        dataset[i] = [float(x) for x in dataset[i]]\n",
        "    return dataset"
      ],
      "execution_count": 0,
      "outputs": []
    },
    {
      "cell_type": "code",
      "metadata": {
        "id": "WaC3St5PVvK5",
        "colab_type": "code",
        "colab": {}
      },
      "source": [
        "def splitDataset(dataset, splitRatio):\n",
        "    trainSize = int(len(dataset) * splitRatio)\n",
        "    trainSet = []\n",
        "    copy = list(dataset)\n",
        "    while len(trainSet) < trainSize:\n",
        "        index = random.randrange(len(copy))\n",
        "        trainSet.append(copy.pop(index))\n",
        "    return [trainSet, copy]"
      ],
      "execution_count": 0,
      "outputs": []
    },
    {
      "cell_type": "code",
      "metadata": {
        "id": "HydBmbr-WpeI",
        "colab_type": "code",
        "colab": {}
      },
      "source": [
        "def separateByClass(dataset):\n",
        "    separated = {}\n",
        "    for i in range(len(dataset)):\n",
        "        vector = dataset[i]\n",
        "        if (vector[-1] not in separated):\n",
        "            separated[vector[-1]] = []\n",
        "        separated[vector[-1]].append(vector)\n",
        "    return separated"
      ],
      "execution_count": 0,
      "outputs": []
    },
    {
      "cell_type": "code",
      "metadata": {
        "id": "ztZl-b1BXXtY",
        "colab_type": "code",
        "colab": {}
      },
      "source": [
        "def mean(numbers):\n",
        "    return sum(numbers)/float(len(numbers))"
      ],
      "execution_count": 0,
      "outputs": []
    },
    {
      "cell_type": "code",
      "metadata": {
        "id": "-TCu7em4YCuY",
        "colab_type": "code",
        "colab": {}
      },
      "source": [
        "def stdev(numbers):\n",
        "    avg = mean(numbers)\n",
        "    variance = sum([pow(x-avg,2) for x in numbers])/float(len(numbers)-1)\n",
        "    return math.sqrt(variance)"
      ],
      "execution_count": 0,
      "outputs": []
    },
    {
      "cell_type": "code",
      "metadata": {
        "id": "HeMM_zreYezf",
        "colab_type": "code",
        "colab": {}
      },
      "source": [
        "def summarize(dataset):\n",
        "    summaries = [(mean(attribute), stdev(attribute)) for attribute in zip(*dataset)]\n",
        "    del summaries[-1]\n",
        "    return summaries"
      ],
      "execution_count": 0,
      "outputs": []
    },
    {
      "cell_type": "code",
      "metadata": {
        "id": "g9a_rV_ZZG-P",
        "colab_type": "code",
        "colab": {}
      },
      "source": [
        "def summarizeByClass(dataset):\n",
        "    separated = separateByClass(dataset)\n",
        "    summaries = {}\n",
        "    for classValue, instances in separated.items():\n",
        "      summaries[classValue] = summarize(instances)\n",
        "    return summaries"
      ],
      "execution_count": 0,
      "outputs": []
    },
    {
      "cell_type": "code",
      "metadata": {
        "id": "x2_RrSwlMeY0",
        "colab_type": "code",
        "colab": {}
      },
      "source": [
        "def calculateProbability(x, mean, stdev):\n",
        "    exponent = math.exp(-(math.pow(x-mean,2)/(2*math.pow(stdev,2))))\n",
        "    return (1 / (math.sqrt(2*math.pi) * stdev)) * exponent"
      ],
      "execution_count": 0,
      "outputs": []
    },
    {
      "cell_type": "code",
      "metadata": {
        "id": "wNA0QAliN2lu",
        "colab_type": "code",
        "colab": {}
      },
      "source": [
        "def calculateClassProbabilities(summaries, inputVector):\n",
        "    probabilities = {}\n",
        "    for classValue, classSummaries in summaries.items():\n",
        "      probabilities[classValue] = 1\n",
        "      for i in range(len(classSummaries)):\n",
        "        mean, stdev = classSummaries[i]\n",
        "        x = inputVector[i]\n",
        "        probabilities[classValue] *= calculateProbability(x, mean, stdev)\n",
        "      return probabilities"
      ],
      "execution_count": 0,
      "outputs": []
    },
    {
      "cell_type": "code",
      "metadata": {
        "id": "7wOGCXlsO4hp",
        "colab_type": "code",
        "colab": {}
      },
      "source": [
        "def predict(summaries, inputVector):\n",
        "    probabilities = calculateClassProbabilities(summaries, inputVector)\n",
        "    bestLabel, bestProb = None, -1\n",
        "    for classValue, probability in probabilities.items():\n",
        "        if bestLabel is None or probability > bestProb:\n",
        "            bestProb = probability\n",
        "            bestLabel = classValue\n",
        "    return bestLabel"
      ],
      "execution_count": 0,
      "outputs": []
    },
    {
      "cell_type": "code",
      "metadata": {
        "id": "ilC2Um5-O_OM",
        "colab_type": "code",
        "colab": {}
      },
      "source": [
        "def getPredictions(summaries, testSet):\n",
        "    predictions = []\n",
        "    for i in range(len(testSet)):\n",
        "        result = predict(summaries, testSet[i])\n",
        "        predictions.append(result)\n",
        "    return predictions"
      ],
      "execution_count": 0,
      "outputs": []
    },
    {
      "cell_type": "code",
      "metadata": {
        "id": "nn_th-6nQ3EZ",
        "colab_type": "code",
        "colab": {}
      },
      "source": [
        "def getAccuracy(testSet, predictions):\n",
        "    correct = 0\n",
        "    for i in range(len(testSet)):\n",
        "        if testSet[i][-1] == predictions[i]:\n",
        "            correct += 1\n",
        "    return (correct/float(len(testSet))) * 100.0"
      ],
      "execution_count": 0,
      "outputs": []
    },
    {
      "cell_type": "code",
      "metadata": {
        "id": "ANjsvSbtR61E",
        "colab_type": "code",
        "outputId": "36d7abb9-e74e-44db-dcde-e58f4fde5f5f",
        "colab": {
          "base_uri": "https://localhost:8080/",
          "height": 51
        }
      },
      "source": [
        "def main():\n",
        "    filename = '/content/gdrive/My Drive/IYKRA/Data Set/pima-indians-diabetes.csv'\n",
        "    splitRatio = 0.67\n",
        "    dataset = loadCsv(filename)\n",
        "    trainingSet,testSet=splitDataset(dataset, splitRatio) \n",
        "    print('Split {0} rows into train = {1} and test = {2} rows'.format(len(dataset), len(trainingSet), len(testSet)))\n",
        "    summaries = summarizeByClass(trainingSet)\n",
        "    predictions = getPredictions(summaries, testSet)\n",
        "    accuracy = getAccuracy(testSet, predictions)\n",
        "    print('Accuracy: {0}%'.format(accuracy))\n",
        "\n",
        "main()"
      ],
      "execution_count": 0,
      "outputs": [
        {
          "output_type": "stream",
          "text": [
            "Split 768 rows into train = 514 and test = 254 rows\n",
            "Accuracy: 62.20472440944882%\n"
          ],
          "name": "stdout"
        }
      ]
    },
    {
      "cell_type": "code",
      "metadata": {
        "id": "AyAz-6FnVvUC",
        "colab_type": "code",
        "colab": {}
      },
      "source": [
        ""
      ],
      "execution_count": 0,
      "outputs": []
    }
  ]
}